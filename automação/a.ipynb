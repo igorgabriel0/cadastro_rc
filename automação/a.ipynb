{
 "cells": [
  {
   "cell_type": "code",
   "execution_count": null,
   "metadata": {},
   "outputs": [],
   "source": [
    "import os\n",
    "\n",
    "def get_files(dir=None,return_dir = False):\n",
    "    \n",
    "    list = []\n",
    "    for file in os.listdir(dir):\n",
    "        if file.endswith(\".pdf\"):\n",
    "            file_path = f\"{file}\"\n",
    "            if return_dir == True:\n",
    "                list.append(str(dir+\"/\"+file_path))\n",
    "            else:\n",
    "                list.append(str(file_path))\n",
    "    return (list)\n",
    "lista_arquivos = get_files(dir=r\"Automação RC\\anexos\\paula.santos\", return_dir= True) # Pasta Modelos de RC\n",
    "print(len(list))"
   ]
  },
  {
   "cell_type": "code",
   "execution_count": null,
   "metadata": {},
   "outputs": [],
   "source": [
    "import time\n",
    "import pyautogui as auto\n",
    "import pyperclip\n",
    "\n",
    "time.sleep(2)\n",
    "a = auto.click(x=290, y=179)\n",
    "auto.hotkey('Ctrl','a')\n",
    "a = pyperclip.paste()\n",
    "print(a)\n",
    "\n",
    "\n",
    "import pyautogui\n",
    "\n",
    "# Carregue a imagem que você quer procurar na tela\n",
    "imagem = 'caminho/para/sua/imagem.png'\n",
    "\n",
    "# Localize a posição da imagem na tela\n",
    "posicao = pyautogui.locateOnScreen(imagem)\n",
    "\n",
    "# Verifique se a imagem foi encontrada\n",
    "if posicao is not None:\n",
    "    print(\"A imagem está na tela na posição:\", posicao)\n",
    "else:\n",
    "    print(\"A imagem não está na tela.\")\n"
   ]
  },
  {
   "cell_type": "code",
   "execution_count": 12,
   "metadata": {},
   "outputs": [
    {
     "name": "stdout",
     "output_type": "stream",
     "text": [
      "Grupo de compradores G15 não previsto (verificar entrada)\n"
     ]
    }
   ],
   "source": [
    "import pyautogui as auto\n",
    "import pyperclip\n",
    "import time\n",
    "\n",
    "\n",
    "time.sleep(2)\n",
    "auto.click(x=290, y=179)\n",
    "auto.hotkey('Ctrl','a')\n",
    "auto.hotkey('ctrl', 'c')\n",
    "time.sleep(1)\n",
    "msg_erro = pyperclip.paste()\n",
    "# Divide o texto em linhas e seleciona as três primeiras linhas\n",
    "linhas = msg_erro.splitlines()[2:3]\n",
    "# Junta as linhas de volta em um único texto\n",
    "msg_erro = '\\n'.join(linhas)\n",
    "# Imprime o texto copiado\n",
    "print(msg_erro)"
   ]
  },
  {
   "cell_type": "code",
   "execution_count": null,
   "metadata": {},
   "outputs": [],
   "source": [
    "def negativo(lista):\n",
    "    numeros_vistos = set()\n",
    "    for numero in lista:\n",
    "        if -numero in numeros_vistos:\n",
    "            print(-numero)\n",
    "        numeros_vistos.add(numero)\n",
    "\n",
    "lista_de_numeros = [1, 2, 3, -1, 2, -3, 4, 5, -4]\n",
    "negativo(lista_de_numeros)\n",
    "\n",
    "                    "
   ]
  },
  {
   "cell_type": "code",
   "execution_count": null,
   "metadata": {},
   "outputs": [],
   "source": [
    "import pyautogui\n",
    "import time\n",
    "\n",
    "# Espera um momento para o usuário mudar para a janela do SAP\n",
    "time.sleep(5)\n",
    "\n",
    "# Encontra a posição do botão \"C|C\" usando o método de pesquisa de imagem\n",
    "button_position = pyautogui.locateOnScreen('c_c_button.png')\n",
    "\n",
    "# Clica no botão se encontrado\n",
    "if button_position is not None:\n",
    "    button_center = pyautogui.center(button_position)\n",
    "    pyautogui.click(button_center)\n",
    "else:\n",
    "    print(\"Botão C|C não encontrado.\")"
   ]
  }
 ],
 "metadata": {
  "kernelspec": {
   "display_name": "Python 3",
   "language": "python",
   "name": "python3"
  },
  "language_info": {
   "codemirror_mode": {
    "name": "ipython",
    "version": 3
   },
   "file_extension": ".py",
   "mimetype": "text/x-python",
   "name": "python",
   "nbconvert_exporter": "python",
   "pygments_lexer": "ipython3",
   "version": "3.12.0"
  }
 },
 "nbformat": 4,
 "nbformat_minor": 2
}
